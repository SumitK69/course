{
 "cells": [
  {
   "cell_type": "markdown",
   "id": "b23d55fe",
   "metadata": {},
   "source": [
    "# Question  1"
   ]
  },
  {
   "cell_type": "code",
   "execution_count": 6,
   "id": "193b57b4",
   "metadata": {},
   "outputs": [
    {
     "data": {
      "text/plain": [
       "[1, 2, 3, 4, 5, 6, 7, 8, 9, 10]"
      ]
     },
     "execution_count": 6,
     "metadata": {},
     "output_type": "execute_result"
    }
   ],
   "source": [
    "l = [i for i in range(1,11)]\n",
    "l"
   ]
  },
  {
   "cell_type": "markdown",
   "id": "e0310172",
   "metadata": {},
   "source": [
    "## Question 2"
   ]
  },
  {
   "cell_type": "code",
   "execution_count": 8,
   "id": "7990d21b",
   "metadata": {},
   "outputs": [
    {
     "name": "stdout",
     "output_type": "stream",
     "text": [
      "year: 2002 is not a leap year\n"
     ]
    }
   ],
   "source": [
    "def leap(year):\n",
    "    if year%4 == 0:\n",
    "        print(f\"year: {year} is a leap year\")\n",
    "    else:\n",
    "        print(f\"year: {year} is not a leap year\")\n",
    "        \n",
    "leap(2002)"
   ]
  },
  {
   "cell_type": "markdown",
   "id": "e185b737",
   "metadata": {},
   "source": [
    "## Question 3"
   ]
  },
  {
   "cell_type": "code",
   "execution_count": 36,
   "id": "904a7c28",
   "metadata": {},
   "outputs": [
    {
     "name": "stdout",
     "output_type": "stream",
     "text": [
      "[2, 4, 6, 8, 10]\n"
     ]
    }
   ],
   "source": [
    "a = [i for i in range(1,11)]\n",
    "def even(arr):\n",
    "    arr2 = []\n",
    "    for num in arr:\n",
    "        if num%2 == 0:\n",
    "            arr2.append((num))\n",
    "    return (arr2)\n",
    "print(even(a))"
   ]
  },
  {
   "cell_type": "markdown",
   "id": "0fc9c478",
   "metadata": {},
   "source": [
    "# Question 4"
   ]
  },
  {
   "cell_type": "code",
   "execution_count": 43,
   "id": "5dc2f499",
   "metadata": {},
   "outputs": [
    {
     "data": {
      "text/plain": [
       "[3, 4, 6]"
      ]
     },
     "execution_count": 43,
     "metadata": {},
     "output_type": "execute_result"
    }
   ],
   "source": [
    "arr1 = [1,2,3,4,5,6,7]\n",
    "arr2 = [3,6,4,8,0]\n",
    "def same(arr1,arr2):\n",
    "    sameelement = []\n",
    "    for i in arr1:\n",
    "        if i in arr2:\n",
    "            sameelement.append(i)\n",
    "    return sameelement\n",
    "same(arr1,arr2)"
   ]
  },
  {
   "cell_type": "code",
   "execution_count": null,
   "id": "3d4d3aa7",
   "metadata": {},
   "outputs": [],
   "source": []
  },
  {
   "cell_type": "code",
   "execution_count": null,
   "id": "6bacc4a3",
   "metadata": {},
   "outputs": [],
   "source": []
  }
 ],
 "metadata": {
  "kernelspec": {
   "display_name": "Python 3 (ipykernel)",
   "language": "python",
   "name": "python3"
  },
  "language_info": {
   "codemirror_mode": {
    "name": "ipython",
    "version": 3
   },
   "file_extension": ".py",
   "mimetype": "text/x-python",
   "name": "python",
   "nbconvert_exporter": "python",
   "pygments_lexer": "ipython3",
   "version": "3.10.6"
  }
 },
 "nbformat": 4,
 "nbformat_minor": 5
}
