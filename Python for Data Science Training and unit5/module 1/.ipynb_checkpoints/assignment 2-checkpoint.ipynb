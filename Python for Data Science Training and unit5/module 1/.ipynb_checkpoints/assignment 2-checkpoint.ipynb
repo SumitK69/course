{
 "cells": [
  {
   "cell_type": "code",
   "execution_count": 32,
   "id": "2006b02a",
   "metadata": {},
   "outputs": [
    {
     "name": "stdout",
     "output_type": "stream",
     "text": [
      "enter a: 5\n",
      "enter b: 9\n",
      "enter c: 9\n"
     ]
    }
   ],
   "source": [
    "a = input(\"enter a: \")\n",
    "b = input(\"enter b: \")\n",
    "c = input(\"enter c: \")\n"
   ]
  },
  {
   "cell_type": "code",
   "execution_count": 36,
   "id": "7e7bb959",
   "metadata": {},
   "outputs": [
    {
     "name": "stdout",
     "output_type": "stream",
     "text": [
      "b and c have greater value than a\n"
     ]
    }
   ],
   "source": [
    "\n",
    "\n",
    "if a==b and b==c:\n",
    "    print(\"all values are same.\")\n",
    "elif a > b==c:\n",
    "    print(\"a is greater than b and c\")\n",
    "elif b ==c >a:\n",
    "        print(\"b and c have greater value than a\")\n",
    "elif a==c < b:\n",
    "    print(\"b is greater than a and c\")\n",
    "elif a==c>b:\n",
    "    print(\"a and c have greater value than b\")\n",
    "elif a == b < c:\n",
    "    print(\"c is greater than a and b\")\n",
    "elif a ==b >c:\n",
    "    print(\"a and b have greater value than c \")\n",
    "elif a>b and a>c:\n",
    "    print(\"a is greater than b and c\")\n",
    "elif b>a and b>c:\n",
    "    print(\"b is greater than a and c\")\n",
    "elif c>a and c>b:\n",
    "    print(\"c is greater than a and b\")\n"
   ]
  },
  {
   "cell_type": "code",
   "execution_count": null,
   "id": "4317dfc2",
   "metadata": {},
   "outputs": [],
   "source": []
  },
  {
   "cell_type": "code",
   "execution_count": null,
   "id": "7a3b9c12",
   "metadata": {},
   "outputs": [],
   "source": []
  }
 ],
 "metadata": {
  "kernelspec": {
   "display_name": "Python 3 (ipykernel)",
   "language": "python",
   "name": "python3"
  },
  "language_info": {
   "codemirror_mode": {
    "name": "ipython",
    "version": 3
   },
   "file_extension": ".py",
   "mimetype": "text/x-python",
   "name": "python",
   "nbconvert_exporter": "python",
   "pygments_lexer": "ipython3",
   "version": "3.10.6"
  }
 },
 "nbformat": 4,
 "nbformat_minor": 5
}
