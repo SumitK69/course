{
 "cells": [
  {
   "cell_type": "code",
   "execution_count": 9,
   "id": "0e7099fc",
   "metadata": {},
   "outputs": [
    {
     "name": "stdout",
     "output_type": "stream",
     "text": [
      "how much array elements you are going to enter: 4\n",
      "enter the elements one by one: 1\n",
      "enter the elements one by one: 7\n",
      "enter the elements one by one: 9\n",
      "enter the elements one by one: 3\n",
      "9\n",
      "3\n"
     ]
    }
   ],
   "source": [
    "arr = []\n",
    "number = int(input(\"how much array elements you are going to enter: \"))\n",
    "for i in range(0,number):\n",
    "    element = int(input(\"enter the elements one by one: \"))\n",
    "    arr.append(element)\n",
    "\n",
    "flag = False\n",
    "for num in arr:\n",
    "    if num > 1:\n",
    "        for i in range(2,num):\n",
    "            if (num % i) == 0:\n",
    "                flag = True\n",
    "                break\n",
    "    if flag:\n",
    "        print(num)"
   ]
  },
  {
   "cell_type": "code",
   "execution_count": null,
   "id": "96fa1021",
   "metadata": {},
   "outputs": [],
   "source": []
  }
 ],
 "metadata": {
  "kernelspec": {
   "display_name": "Python 3 (ipykernel)",
   "language": "python",
   "name": "python3"
  },
  "language_info": {
   "codemirror_mode": {
    "name": "ipython",
    "version": 3
   },
   "file_extension": ".py",
   "mimetype": "text/x-python",
   "name": "python",
   "nbconvert_exporter": "python",
   "pygments_lexer": "ipython3",
   "version": "3.10.6"
  }
 },
 "nbformat": 4,
 "nbformat_minor": 5
}
