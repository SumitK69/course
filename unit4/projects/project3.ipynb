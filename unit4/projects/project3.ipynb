{
 "cells": [
  {
   "cell_type": "code",
   "execution_count": 5,
   "id": "bf26baf4",
   "metadata": {},
   "outputs": [],
   "source": [
    "from pyspark import SparkContext\n",
    "sc = SparkContext(\"local\",\"MyApplication\")"
   ]
  },
  {
   "cell_type": "code",
   "execution_count": 4,
   "id": "2ae1562d",
   "metadata": {},
   "outputs": [],
   "source": [
    "sc.stop()"
   ]
  },
  {
   "cell_type": "code",
   "execution_count": 6,
   "id": "5f4e1d39",
   "metadata": {},
   "outputs": [],
   "source": [
    "from pyspark import SparkConf\n",
    "from pyspark.context import SparkContext\n",
    "conf = SparkConf().setAppName(\"pyspark demo app\").setMaster(\"local[2]\")"
   ]
  },
  {
   "cell_type": "code",
   "execution_count": 7,
   "id": "96187681",
   "metadata": {},
   "outputs": [
    {
     "data": {
      "text/plain": [
       "'local[2]'"
      ]
     },
     "execution_count": 7,
     "metadata": {},
     "output_type": "execute_result"
    }
   ],
   "source": [
    "conf.get(\"spark.master\")"
   ]
  },
  {
   "cell_type": "code",
   "execution_count": 8,
   "id": "bdf91d52",
   "metadata": {},
   "outputs": [
    {
     "data": {
      "text/plain": [
       "'pyspark demo app'"
      ]
     },
     "execution_count": 8,
     "metadata": {},
     "output_type": "execute_result"
    }
   ],
   "source": [
    "conf.get(\"spark.app.name\")"
   ]
  },
  {
   "cell_type": "code",
   "execution_count": 15,
   "id": "581e46ba",
   "metadata": {},
   "outputs": [],
   "source": [
    "from pyspark import SparkFiles\n",
    "from pyspark import SparkContext\n"
   ]
  },
  {
   "cell_type": "code",
   "execution_count": null,
   "id": "34cf95e4",
   "metadata": {},
   "outputs": [],
   "source": [
    "path = os.path.join(\"C:\\Users\\sumit0069\\Desktop\\spark-3.3.1-bin-hadoop3\",\"cars.csv\")\n",
    "sc.addFile(path)"
   ]
  },
  {
   "cell_type": "code",
   "execution_count": 17,
   "id": "0a97c2fc",
   "metadata": {},
   "outputs": [
    {
     "data": {
      "text/plain": [
       "'C:\\\\Users\\\\sumit0069\\\\AppData\\\\Local\\\\Temp\\\\spark-0bb6d64c-7a7d-4044-8636-f0d9e591dd48\\\\userFiles-b76ca095-77d9-487c-bd98-057276f2798f'"
      ]
     },
     "execution_count": 17,
     "metadata": {},
     "output_type": "execute_result"
    }
   ],
   "source": [
    "SparkFiles.getRootDirectory()"
   ]
  },
  {
   "cell_type": "code",
   "execution_count": null,
   "id": "22e3e9aa",
   "metadata": {},
   "outputs": [],
   "source": []
  }
 ],
 "metadata": {
  "kernelspec": {
   "display_name": "Python 3 (ipykernel)",
   "language": "python",
   "name": "python3"
  },
  "language_info": {
   "codemirror_mode": {
    "name": "ipython",
    "version": 3
   },
   "file_extension": ".py",
   "mimetype": "text/x-python",
   "name": "python",
   "nbconvert_exporter": "python",
   "pygments_lexer": "ipython3",
   "version": "3.7.0"
  }
 },
 "nbformat": 4,
 "nbformat_minor": 5
}
