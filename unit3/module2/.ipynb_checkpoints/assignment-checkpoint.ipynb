{
 "cells": [
  {
   "cell_type": "code",
   "execution_count": 36,
   "id": "1503ffb3",
   "metadata": {},
   "outputs": [],
   "source": [
    "import tensorflow as tf\n",
    "from tensorflow import keras"
   ]
  },
  {
   "cell_type": "code",
   "execution_count": 37,
   "id": "585cf9a7",
   "metadata": {},
   "outputs": [],
   "source": [
    "tf.compat.v1.disable_eager_execution()"
   ]
  },
  {
   "cell_type": "code",
   "execution_count": 48,
   "id": "9094e73c",
   "metadata": {},
   "outputs": [],
   "source": [
    "con1 = tf.constant(10)\n",
    "con2 = tf.constant(15)\n",
    "con3 = tf.constant(\"sumit\")\n",
    "con4 = tf.constant(True)\n",
    "con = con1 + con11"
   ]
  },
  {
   "cell_type": "code",
   "execution_count": 49,
   "id": "e813d71d",
   "metadata": {},
   "outputs": [
    {
     "name": "stdout",
     "output_type": "stream",
     "text": [
      "[<tf.Tensor 'Const_5:0' shape=() dtype=int32>, <tf.Tensor 'Const_6:0' shape=() dtype=int32>, <tf.Tensor 'Const_7:0' shape=() dtype=string>, <tf.Tensor 'Const_8:0' shape=() dtype=bool>]\n"
     ]
    }
   ],
   "source": [
    "print([con1,con2,con3,con4])"
   ]
  },
  {
   "cell_type": "code",
   "execution_count": 50,
   "id": "a1d1fd21",
   "metadata": {},
   "outputs": [],
   "source": [
    "sess = tf.compat.v1.Session()"
   ]
  },
  {
   "cell_type": "code",
   "execution_count": 57,
   "id": "89016e89",
   "metadata": {},
   "outputs": [],
   "source": [
    "result = sess.run(con1 + con2)"
   ]
  },
  {
   "cell_type": "code",
   "execution_count": 58,
   "id": "055c0a14",
   "metadata": {},
   "outputs": [
    {
     "data": {
      "text/plain": [
       "25"
      ]
     },
     "execution_count": 58,
     "metadata": {},
     "output_type": "execute_result"
    }
   ],
   "source": [
    "result"
   ]
  },
  {
   "cell_type": "code",
   "execution_count": 54,
   "id": "a42d9e0b",
   "metadata": {},
   "outputs": [],
   "source": [
    "result1 = sess.run(con1 - con2)"
   ]
  },
  {
   "cell_type": "code",
   "execution_count": 55,
   "id": "29ec9ea9",
   "metadata": {},
   "outputs": [
    {
     "data": {
      "text/plain": [
       "-5"
      ]
     },
     "execution_count": 55,
     "metadata": {},
     "output_type": "execute_result"
    }
   ],
   "source": [
    "result1"
   ]
  },
  {
   "cell_type": "code",
   "execution_count": 60,
   "id": "2b62af6e",
   "metadata": {},
   "outputs": [
    {
     "name": "stdout",
     "output_type": "stream",
     "text": [
      "b'sumit'\n"
     ]
    }
   ],
   "source": [
    "print(sess.run(con3))"
   ]
  },
  {
   "cell_type": "code",
   "execution_count": 73,
   "id": "11f7af59",
   "metadata": {},
   "outputs": [],
   "source": [
    "x = tf.compat.v1.placeholder(tf.int32)\n",
    "m = 5\n",
    "c = 2\n",
    "y = m * x + c"
   ]
  },
  {
   "cell_type": "code",
   "execution_count": 74,
   "id": "f34e6237",
   "metadata": {},
   "outputs": [
    {
     "data": {
      "text/plain": [
       "array([ 7, 12, 17])"
      ]
     },
     "execution_count": 74,
     "metadata": {},
     "output_type": "execute_result"
    }
   ],
   "source": [
    "sess.run(y,feed_dict={x:[1,2,3]})"
   ]
  },
  {
   "cell_type": "code",
   "execution_count": null,
   "id": "30f22c07",
   "metadata": {},
   "outputs": [],
   "source": []
  }
 ],
 "metadata": {
  "kernelspec": {
   "display_name": "Python 3 (ipykernel)",
   "language": "python",
   "name": "python3"
  },
  "language_info": {
   "codemirror_mode": {
    "name": "ipython",
    "version": 3
   },
   "file_extension": ".py",
   "mimetype": "text/x-python",
   "name": "python",
   "nbconvert_exporter": "python",
   "pygments_lexer": "ipython3",
   "version": "3.9.16"
  }
 },
 "nbformat": 4,
 "nbformat_minor": 5
}
