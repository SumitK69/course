{
 "cells": [
  {
   "cell_type": "code",
   "execution_count": 9,
   "id": "8c464d6f",
   "metadata": {},
   "outputs": [],
   "source": [
    "import glob,cv2"
   ]
  },
  {
   "cell_type": "code",
   "execution_count": 10,
   "id": "51b0c0f4",
   "metadata": {},
   "outputs": [],
   "source": [
    "gimage = glob.glob(\"*.jpg\")\n",
    "detech = cv2.CascadeClassifier('haarcascade_frontalface_default.xml')\n",
    "for timage in gimage:\n",
    "    image = cv2.imread(timage)\n",
    "    grayimg = cv2.cvtColor(image,cv2.COLOR_BGR2GRAY)\n",
    "    face = detech.detectMultiScale(grayimg,1.25,3)\n",
    "    for(x,y,w,h) in face:\n",
    "        cv2.rectangle(image,(x,y),(x+w,y+h),(0,255,0),2)\n",
    "    cv2.imshow(\"detect images\",image)\n",
    "    cv2.waitKey(2000)\n",
    "    cv2.destroyAllWindows()"
   ]
  },
  {
   "cell_type": "raw",
   "id": "406f15cb",
   "metadata": {},
   "source": []
  },
  {
   "cell_type": "code",
   "execution_count": null,
   "id": "19c45e4d",
   "metadata": {},
   "outputs": [],
   "source": []
  }
 ],
 "metadata": {
  "kernelspec": {
   "display_name": "Python 3 (ipykernel)",
   "language": "python",
   "name": "python3"
  },
  "language_info": {
   "codemirror_mode": {
    "name": "ipython",
    "version": 3
   },
   "file_extension": ".py",
   "mimetype": "text/x-python",
   "name": "python",
   "nbconvert_exporter": "python",
   "pygments_lexer": "ipython3",
   "version": "3.9.16"
  }
 },
 "nbformat": 4,
 "nbformat_minor": 5
}
