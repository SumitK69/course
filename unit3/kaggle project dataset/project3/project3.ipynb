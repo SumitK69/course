{
 "cells": [
  {
   "cell_type": "code",
   "execution_count": 1,
   "id": "461dc826",
   "metadata": {},
   "outputs": [],
   "source": [
    "import time\n",
    "import numpy as np"
   ]
  },
  {
   "cell_type": "code",
   "execution_count": 3,
   "id": "351c484c",
   "metadata": {},
   "outputs": [],
   "source": [
    "def reshape_data(ratings,print_prog =True):\n",
    "    n_users = len(ratings.user_id.unique())\n",
    "    n_jokes = len(ratings.joke_id.unique())\n",
    "    Y= np.zeros((n_jokes,n_users))\n",
    "    R= np.zeros((n_jokes,n_users))\n",
    "    start_time = time.time()\n",
    "    last_print = start_time\n",
    "    \n",
    "    for i ,(index,row) in enumerate(ratings.iterrows()):\n",
    "        Y[row.joke_id -1][row.user_id -1] = (row.Rating + 10.) / 20.\n",
    "        R[row.joke_id -1][row.user_id -1] = 1\n",
    "        if print_prog:\n",
    "            last_print = print_progress(i,len(rating),start_time,last_print,'reshaping data')\n",
    "    if print_prog:\n",
    "        print(\"\\r finised reshape in %.1f seconds\"%(time.time()-start_time))\n",
    "    return R,Y"
   ]
  },
  {
   "cell_type": "code",
   "execution_count": null,
   "id": "c0534664",
   "metadata": {},
   "outputs": [],
   "source": [
    "def reshape_data_R(df,print_prog = True):\n",
    "    n_users = len(df.user_id.unique())\n",
    "    n_jokes - len(df.joke_id.unique())\n",
    "    \n",
    "    R = np.zeros((n_jokes,n_users))\n",
    "    \n",
    "    start_time = time.time()\n",
    "    last_print = start_time\n",
    "      \n",
    "    for i ,(index,row) in enumerate(ratings.iterrows()):\n",
    "        R[row.joke_id -1][row.user_id -1] = 1\n",
    "        if print_prog:\n",
    "            last_print = print_progress(i,len(df),start_time,last_print,'reshaping data')\n",
    "    if print_prog:\n",
    "            print(\"\\r finised reshape in %.1f seconds\"%(time.time()-start_time))\n",
    "    return R"
   ]
  }
 ],
 "metadata": {
  "kernelspec": {
   "display_name": "Python 3 (ipykernel)",
   "language": "python",
   "name": "python3"
  },
  "language_info": {
   "codemirror_mode": {
    "name": "ipython",
    "version": 3
   },
   "file_extension": ".py",
   "mimetype": "text/x-python",
   "name": "python",
   "nbconvert_exporter": "python",
   "pygments_lexer": "ipython3",
   "version": "3.9.16"
  }
 },
 "nbformat": 4,
 "nbformat_minor": 5
}
