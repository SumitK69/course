{
 "cells": [
  {
   "cell_type": "markdown",
   "id": "848a2a63",
   "metadata": {},
   "source": [
    "# Question 1"
   ]
  },
  {
   "cell_type": "code",
   "execution_count": 15,
   "id": "3d4a9284",
   "metadata": {},
   "outputs": [
    {
     "data": {
      "text/plain": [
       "[10, 20, 30, 'apple', True, 8.1, 30, 40]"
      ]
     },
     "execution_count": 15,
     "metadata": {},
     "output_type": "execute_result"
    }
   ],
   "source": [
    "myList = [10,20,30,'apple',True,8.10]\n",
    "myList.extend([30,40])\n",
    "myList"
   ]
  },
  {
   "cell_type": "code",
   "execution_count": 16,
   "id": "112517e2",
   "metadata": {},
   "outputs": [
    {
     "data": {
      "text/plain": [
       "[40, 30, 8.1, True, 'apple', 30, 20, 10]"
      ]
     },
     "execution_count": 16,
     "metadata": {},
     "output_type": "execute_result"
    }
   ],
   "source": [
    "reversedList = (myList[::-1])\n",
    "reversedList"
   ]
  },
  {
   "cell_type": "markdown",
   "id": "5e3bbb06",
   "metadata": {},
   "source": [
    "# Question 2"
   ]
  },
  {
   "cell_type": "code",
   "execution_count": 3,
   "id": "764aa27a",
   "metadata": {},
   "outputs": [
    {
     "data": {
      "text/plain": [
       "{1: 'data', 2: 'information', 3: 'features'}"
      ]
     },
     "execution_count": 3,
     "metadata": {},
     "output_type": "execute_result"
    }
   ],
   "source": [
    "dic = {1:'data',2:'information',3:'text'}\n",
    "dic.pop(3)\n",
    "dic[3] = 'features'\n",
    "dic"
   ]
  },
  {
   "cell_type": "code",
   "execution_count": 4,
   "id": "8320a967",
   "metadata": {},
   "outputs": [
    {
     "data": {
      "text/plain": [
       "'data'"
      ]
     },
     "execution_count": 4,
     "metadata": {},
     "output_type": "execute_result"
    }
   ],
   "source": [
    "dic[1]"
   ]
  },
  {
   "cell_type": "markdown",
   "id": "9af92bdc",
   "metadata": {},
   "source": [
    "# Question 3"
   ]
  },
  {
   "cell_type": "code",
   "execution_count": 18,
   "id": "e2b5b724",
   "metadata": {},
   "outputs": [
    {
     "data": {
      "text/plain": [
       "(1, 2, 3, 'apple', 'mango')"
      ]
     },
     "execution_count": 18,
     "metadata": {},
     "output_type": "execute_result"
    }
   ],
   "source": [
    "my_tuple = (1,2,3,'apple','mango')\n",
    "my_tuple"
   ]
  },
  {
   "cell_type": "markdown",
   "id": "6b20f161",
   "metadata": {},
   "source": [
    "# Question 4"
   ]
  },
  {
   "cell_type": "code",
   "execution_count": 21,
   "id": "e6285f8f",
   "metadata": {},
   "outputs": [
    {
     "data": {
      "text/plain": [
       "(10, 20, 30, 40, 50)"
      ]
     },
     "execution_count": 21,
     "metadata": {},
     "output_type": "execute_result"
    }
   ],
   "source": [
    "numeric_tuple = (10,20,30,40,50)\n",
    "numeric_tuple"
   ]
  },
  {
   "cell_type": "code",
   "execution_count": 22,
   "id": "c9c0580b",
   "metadata": {},
   "outputs": [
    {
     "data": {
      "text/plain": [
       "10"
      ]
     },
     "execution_count": 22,
     "metadata": {},
     "output_type": "execute_result"
    }
   ],
   "source": [
    "min(numeric_tuple)"
   ]
  },
  {
   "cell_type": "code",
   "execution_count": 24,
   "id": "8a445506",
   "metadata": {},
   "outputs": [
    {
     "data": {
      "text/plain": [
       "(1, 2, 3, 'apple', 'mango', 10, 20, 30, 40, 50)"
      ]
     },
     "execution_count": 24,
     "metadata": {},
     "output_type": "execute_result"
    }
   ],
   "source": [
    "r1 = my_tuple + numeric_tuple\n",
    "r1"
   ]
  },
  {
   "cell_type": "code",
   "execution_count": 26,
   "id": "3c2d3d39",
   "metadata": {},
   "outputs": [
    {
     "data": {
      "text/plain": [
       "(1, 2, 3, 'apple', 'mango', 1, 2, 3, 'apple', 'mango')"
      ]
     },
     "execution_count": 26,
     "metadata": {},
     "output_type": "execute_result"
    }
   ],
   "source": [
    "newdupli = my_tuple * 2\n",
    "newdupli"
   ]
  },
  {
   "cell_type": "markdown",
   "id": "fab69e7f",
   "metadata": {},
   "source": [
    "# Question 5"
   ]
  },
  {
   "cell_type": "code",
   "execution_count": 27,
   "id": "61a89379",
   "metadata": {},
   "outputs": [],
   "source": [
    "set1 = {1,2,3,4,5}\n",
    "set2 = {2,3,7,6,1}"
   ]
  },
  {
   "cell_type": "code",
   "execution_count": 29,
   "id": "86c58f68",
   "metadata": {},
   "outputs": [
    {
     "data": {
      "text/plain": [
       "{1, 2, 3, 4, 5, 6, 7}"
      ]
     },
     "execution_count": 29,
     "metadata": {},
     "output_type": "execute_result"
    }
   ],
   "source": [
    "union = set1.union(set2)\n",
    "union"
   ]
  },
  {
   "cell_type": "code",
   "execution_count": 31,
   "id": "ecaeb7a9",
   "metadata": {},
   "outputs": [
    {
     "data": {
      "text/plain": [
       "{1, 2, 3}"
      ]
     },
     "execution_count": 31,
     "metadata": {},
     "output_type": "execute_result"
    }
   ],
   "source": [
    "intersection = set1.intersection(set2)\n",
    "intersection"
   ]
  },
  {
   "cell_type": "code",
   "execution_count": 33,
   "id": "c23eafcf",
   "metadata": {},
   "outputs": [
    {
     "data": {
      "text/plain": [
       "{4, 5}"
      ]
     },
     "execution_count": 33,
     "metadata": {},
     "output_type": "execute_result"
    }
   ],
   "source": [
    "difference = set1.difference(set2)\n",
    "difference"
   ]
  },
  {
   "cell_type": "code",
   "execution_count": null,
   "id": "a2b9cdc4",
   "metadata": {},
   "outputs": [],
   "source": []
  }
 ],
 "metadata": {
  "kernelspec": {
   "display_name": "Python 3 (ipykernel)",
   "language": "python",
   "name": "python3"
  },
  "language_info": {
   "codemirror_mode": {
    "name": "ipython",
    "version": 3
   },
   "file_extension": ".py",
   "mimetype": "text/x-python",
   "name": "python",
   "nbconvert_exporter": "python",
   "pygments_lexer": "ipython3",
   "version": "3.10.6"
  }
 },
 "nbformat": 4,
 "nbformat_minor": 5
}
